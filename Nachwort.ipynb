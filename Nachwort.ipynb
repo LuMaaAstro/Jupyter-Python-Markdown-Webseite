{
 "cells": [
  {
   "cell_type": "markdown",
   "id": "17acaacc-fb11-4a25-9909-5f1179066d96",
   "metadata": {
    "editable": true,
    "slideshow": {
     "slide_type": ""
    },
    "tags": []
   },
   "source": [
    "\n",
    "# Nachwort\n",
    "\n",
    "Diese Dokumentation soll nur eine Hilfestellung sein und vielleicht einige Anregungen zum Denken geben. \n",
    "Viele Links führen zu den Dokumentationen das hat einen Grund! Wenn ihr lernt wie man direkt in den Dokumentationen liest, kommt man langfristig besser klar, alls wenn man sich immer schon durchgekautes Wissen in Form von Tutorials anschaut.  \n",
    "Wenn ihr richtig Programmieren lernen wollt, dann Programmiert! Das hier ist keine Ressource zum Lernen, höchsten zum Anfangen und zum Nachschlagen.\n",
    "\n",
    "\n",
    "\n",
    "\n",
    "\n",
    "\n",
    "```{admonition} Danksagung:\n",
    ":class: dropdown\n",
    "\n",
    "Teile Der Dokumentation sind von Lehrinhalten von [Prof. Thalhofer](https://www.tha.de/fmv/thalhofer-ulrich.html) inspiriert. Vielen Dank für die Erlaubniss das tun zu dürfen.  \n",
    "\n",
    "Ohne die sehr guten Dokumentationen von Python, Markdown, und Jupyter wäre es nicht möglich gewesen diese Dokumentation zu schreiben. Wenn ihr also mal eine möglichkeit seht denen 1€ in den Hut zuwerfen denkt drüber nach.\n",
    "```\n",
    "\n"
   ]
  },
  {
   "cell_type": "code",
   "execution_count": null,
   "id": "a694a06e-7920-4391-8d39-ea1bce942575",
   "metadata": {
    "editable": true,
    "slideshow": {
     "slide_type": ""
    },
    "tags": []
   },
   "outputs": [],
   "source": []
  }
 ],
 "metadata": {
  "kernelspec": {
   "display_name": "Python 3 (ipykernel)",
   "language": "python",
   "name": "python3"
  },
  "language_info": {
   "codemirror_mode": {
    "name": "ipython",
    "version": 3
   },
   "file_extension": ".py",
   "mimetype": "text/x-python",
   "name": "python",
   "nbconvert_exporter": "python",
   "pygments_lexer": "ipython3",
   "version": "3.10.12"
  }
 },
 "nbformat": 4,
 "nbformat_minor": 5
}
