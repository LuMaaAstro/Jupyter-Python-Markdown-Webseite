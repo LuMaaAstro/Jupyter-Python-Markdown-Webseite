{
 "cells": [
  {
   "cell_type": "markdown",
   "id": "a55f595f-3035-4732-bed5-b040b13bcc49",
   "metadata": {},
   "source": [
    "\n",
    "\n",
    "# Git-Repository\n",
    "\n",
    "Diese Seite hat ein Git-Repository.\n",
    "Das bedeutet das ihr originalen Jupyter-Notebook Dateien euch runterladen könnt und auch selber Sachen ergänzen könnt wenn ihr wollt.\n",
    "Auch gibt es dort die Möglichkeit Issues zu eröffnen also Vorschläge wie was besser gemacht werden kann, bzw Probleme die ihr habt.\n",
    "\n",
    "\n",
    "Das Repository findet ihr hier:\n",
    "\n",
    "[Git_Repository](https://github.com/LuMaaAstro/Jupyter-Python-Markdown-Webseite)"
   ]
  }
 ],
 "metadata": {
  "kernelspec": {
   "display_name": "Python 3 (ipykernel)",
   "language": "python",
   "name": "python3"
  },
  "language_info": {
   "codemirror_mode": {
    "name": "ipython",
    "version": 3
   },
   "file_extension": ".py",
   "mimetype": "text/x-python",
   "name": "python",
   "nbconvert_exporter": "python",
   "pygments_lexer": "ipython3",
   "version": "3.10.12"
  }
 },
 "nbformat": 4,
 "nbformat_minor": 5
}
